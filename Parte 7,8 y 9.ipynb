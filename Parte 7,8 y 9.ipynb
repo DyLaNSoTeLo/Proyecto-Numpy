{
 "cells": [
  {
   "cell_type": "code",
   "execution_count": 1,
   "metadata": {},
   "outputs": [],
   "source": [
    "import plotly.graph_objects as go\n",
    "import matplotlib.pyplot as plt\n",
    "import numpy as np\n",
    "import pandas as pd"
   ]
  },
  {
   "cell_type": "code",
   "execution_count": 2,
   "metadata": {},
   "outputs": [],
   "source": [
    "df = pd.read_csv('datos_procesados_2.csv')"
   ]
  },
  {
   "cell_type": "code",
   "execution_count": null,
   "metadata": {},
   "outputs": [],
   "source": [
    "#Parte7\n",
    "\n",
    "plt.figure(figsize=(10,5))\n",
    "plt.hist(df['age'], bins=10, edgecolor='black')\n",
    "plt.title('Distribución de Edades')\n",
    "plt.xlabel('Edad')\n",
    "plt.ylabel('Frecuencia')\n",
    "plt.show()"
   ]
  },
  {
   "cell_type": "code",
   "execution_count": null,
   "metadata": {},
   "outputs": [],
   "source": [
    "#Parte 7\n",
    "\n",
    "condiciones = ['anaemia', 'diabetes', 'smoking', 'DEATH_EVENT']\n",
    "num_condiciones = len(condiciones)\n",
    "width = 0.35  \n",
    "\n",
    "fig, ax = plt.subplots(figsize=(10, 5))\n",
    "\n",
    "x = np.arange(num_condiciones)\n",
    "\n",
    "color_hombres = 'blue'\n",
    "color_mujeres = 'red'\n",
    "\n",
    "for i, condicion in enumerate(condiciones):\n",
    "    hombres = df[(df['sex'] == 1) & (df[condicion] == 1)].shape[0]\n",
    "    mujeres = df[(df['sex'] == 0) & (df[condicion] == 1)].shape[0]\n",
    "    ax.bar(x[i] - width/2, hombres, width, color=color_hombres, label='Hombres' if i == 0 else \"\")\n",
    "    ax.bar(x[i] + width/2, mujeres, width, color=color_mujeres, label='Mujeres' if i == 0 else \"\")\n",
    "\n",
    "ax.set_xlabel('Categoria')\n",
    "ax.set_ylabel('Cantidad')\n",
    "ax.set_title('Histograma agrupado por Sexo')\n",
    "ax.set_xticks(x)\n",
    "ax.set_xticklabels(condiciones)\n",
    "ax.legend()\n",
    "\n",
    "plt.show()"
   ]
  },
  {
   "cell_type": "code",
   "execution_count": null,
   "metadata": {},
   "outputs": [],
   "source": [
    "#Parte 8\n",
    "\n",
    "labels = ['No', 'Si']\n",
    "\n",
    "plt.figure(figsize=(20,5))\n",
    "\n",
    "\n",
    "plt.subplot(1, 4, 1)\n",
    "plt.pie(df['anaemia'].value_counts(), labels=labels, autopct='%1.1f%%', counterclock=False)\n",
    "plt.title('Anemicos')\n",
    "\n",
    "plt.subplot(1, 4, 2)\n",
    "plt.pie(df['diabetes'].value_counts(), labels=labels, autopct='%1.1f%%', counterclock=False)\n",
    "plt.title('Diabeticos')\n",
    "\n",
    "plt.subplot(1, 4, 3)\n",
    "plt.pie(df['smoking'].value_counts(), labels=labels, autopct='%1.1f%%', counterclock=False)\n",
    "plt.title('Fumadores')\n",
    "\n",
    "plt.subplot(1, 4, 4)\n",
    "plt.pie(df['DEATH_EVENT'].value_counts(), labels=labels, autopct='%1.1f%%', counterclock=False)\n",
    "plt.title('Muertos')\n",
    "\n",
    "plt.show()"
   ]
  }
 ],
 "metadata": {
  "kernelspec": {
   "display_name": "Python 3",
   "language": "python",
   "name": "python3"
  },
  "language_info": {
   "codemirror_mode": {
    "name": "ipython",
    "version": 3
   },
   "file_extension": ".py",
   "mimetype": "text/x-python",
   "name": "python",
   "nbconvert_exporter": "python",
   "pygments_lexer": "ipython3",
   "version": "3.11.5"
  }
 },
 "nbformat": 4,
 "nbformat_minor": 2
}
