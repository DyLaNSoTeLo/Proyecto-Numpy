{
 "cells": [
  {
   "cell_type": "code",
   "execution_count": 3,
   "metadata": {},
   "outputs": [],
   "source": [
    "import plotly.graph_objects as go\n",
    "import matplotlib.pyplot as plt\n",
    "import numpy as np\n",
    "import pandas as pd"
   ]
  },
  {
   "cell_type": "code",
   "execution_count": 7,
   "metadata": {},
   "outputs": [],
   "source": [
    "df = pd.read_csv('datos_procesados_2.csv')"
   ]
  },
  {
   "cell_type": "code",
   "execution_count": null,
   "metadata": {},
   "outputs": [],
   "source": [
    "plt.figure(figsize=(10,5))\n",
    "plt.hist(df['age'], bins=10, edgecolor='black')\n",
    "plt.title('Distribución de Edades')\n",
    "plt.xlabel('Edad')\n",
    "plt.ylabel('Frecuencia')\n",
    "plt.show()"
   ]
  },
  {
   "cell_type": "code",
   "execution_count": null,
   "metadata": {},
   "outputs": [],
   "source": [
    "condiciones = ['anaemia', 'diabetes', 'smoking', 'DEATH_EVENT']\n",
    "num_condiciones = len(condiciones)\n",
    "width = 0.35  \n",
    "\n",
    "fig, ax = plt.subplots(figsize=(10, 5))\n",
    "\n",
    "x = np.arange(num_condiciones)\n",
    "\n",
    "color_hombres = 'blue'\n",
    "color_mujeres = 'red'\n",
    "\n",
    "for i, condicion in enumerate(condiciones):\n",
    "    hombres = df[(df['sex'] == 1) & (df[condicion] == 1)].shape[0]\n",
    "    mujeres = df[(df['sex'] == 0) & (df[condicion] == 1)].shape[0]\n",
    "    ax.bar(x[i] - width/2, hombres, width, color=color_hombres, label='Hombres' if i == 0 else \"\")\n",
    "    ax.bar(x[i] + width/2, mujeres, width, color=color_mujeres, label='Mujeres' if i == 0 else \"\")\n",
    "\n",
    "ax.set_xlabel('Categoria')\n",
    "ax.set_ylabel('Cantidad')\n",
    "ax.set_title('Histograma agrupado por Sexo')\n",
    "ax.set_xticks(x)\n",
    "ax.set_xticklabels(condiciones)\n",
    "ax.legend()\n",
    "\n",
    "plt.show()"
   ]
  }
 ],
 "metadata": {
  "kernelspec": {
   "display_name": "Python 3",
   "language": "python",
   "name": "python3"
  },
  "language_info": {
   "codemirror_mode": {
    "name": "ipython",
    "version": 3
   },
   "file_extension": ".py",
   "mimetype": "text/x-python",
   "name": "python",
   "nbconvert_exporter": "python",
   "pygments_lexer": "ipython3",
   "version": "3.11.5"
  }
 },
 "nbformat": 4,
 "nbformat_minor": 2
}
